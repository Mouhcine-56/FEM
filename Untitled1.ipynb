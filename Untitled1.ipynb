{
  "nbformat": 4,
  "nbformat_minor": 0,
  "metadata": {
    "colab": {
      "name": "Untitled1.ipynb",
      "provenance": [],
      "collapsed_sections": []
    },
    "kernelspec": {
      "name": "python3",
      "display_name": "Python 3"
    }
  },
  "cells": [
    {
      "cell_type": "code",
      "metadata": {
        "id": "Z5wrnEMDK5eG",
        "colab_type": "code",
        "colab": {}
      },
      "source": [
        ""
      ],
      "execution_count": null,
      "outputs": []
    },
    {
      "cell_type": "markdown",
      "metadata": {
        "id": "uUXxMas9YMsG",
        "colab_type": "text"
      },
      "source": [
        "\n",
        "\n",
        "\n",
        "\n"
      ]
    },
    {
      "cell_type": "markdown",
      "metadata": {
        "id": "KZ_yQBeRK9Uo",
        "colab_type": "text"
      },
      "source": [
        "# Poisson Equation\n",
        "We consider the Poisson equation 1D, with homogeneous Dirichlet condition: \n",
        "$$\n",
        "(P)\\left\\{\n",
        "\\begin{array}{rrrr}\n",
        "-u^{\\prime\\prime} &=&f& \\ \\ \\text{into}\\quad]0,1[,\\\\\n",
        "u(0)&=&0&\\\\\n",
        "u(1)&=&0&\n",
        "\\end{array}\n",
        "\\right.\n",
        "$$\n",
        "## Variational formulation\n",
        "The variational formulation of problem (P) consists in finding  $u \\in V=H_{0}^{1}(]0,1[)$, such that:  \n",
        "\n",
        "$$\\int^1_{0}u^{\\prime}(x)v^{\\prime}(x)\\;\\text{d}x=\\int^1_{0}f(x)v(x)\\;\\text{d}x. \\ \\ \\forall  \\ v \\ \\in V $$\n",
        "According to the Lax-Milgramme theorem the variational problem admits unique solution .\n",
        "## Lagrange $\\mathbb{P}_1 $ elements\n",
        "Finite element methods for Lagrange elements $\\mathbb{P}_1 $ involve the space $V_{h}^1$ of polynomials of degrees less than 1 defined piecewise: \n",
        "$$V_{h}^1=\\{v_{h} \\in C^0([0,1]) \\ \\ ; \\ \\ v_{h}\\vert_{[x_i,x_{i+1}]}\\in \\mathbb{P}_1 \\; pour \\; i=0,...,N\\}$$ \n",
        "and the subspace of $V_{h}^1$:\n",
        "$$V_{0,h}^1=\\{v_{h} \\in V_{h}^1,  \\ such \\  that \\ \\  v_{h}(0)=v_{h}(1)=0  $$\n",
        "\n",
        "Where we consider  mesh  simply a set of points $\\{x_i\\}_{0 \\leq i \\leq N+1}$\n",
        "such that, $0=x_0<x_1 <...<x_{N+1}=1$. The mesh is said to be uniform if the points $\\{x_i\\}$ are equidistributed along the\n",
        "segment $[0,1]$, such that $x_i=ih$, with $h=1/(N+1)$, $0 \\leq i \\leq N+1$.\n",
        "The variational formulation of the internal approximation consists in finding $u_h \\in V_{0,h}^1$, such that:\n",
        "$$\\int^1_{0}u_h^{\\prime}(x)v_h^{\\prime}(x)\\;\\text{d}x=\\int^1_{0}f(x)v_h(x)\\;\\text{d}x. \\ \\ \\forall  \\ v_h \\ \\in V_{0,h}^1 $$\n",
        "Now we consider B basis of $V_{0,h}^1$ such that:\n",
        "\n",
        "$$ B=\\{\\varphi_i \\in V_{0,h}^1 \\ \\ ,  \\ \\varphi_i(x_j)=\\delta_{i,j}  \\ \\ i,j=0,...,N+1 \\}$$\n",
        "Where $\\{\\varphi_i\\}_{0 \\leq i \\leq N+1}$ is the basis of the shape functions $\\varphi_i$ with compact support in each interval $[x_{i-1},x_{i+1}]$.\n",
        "$$\n",
        "\\varphi_i(x)=  \\left\\{\n",
        "\\begin{array}{lll}\n",
        "\\frac{x-x_{i-1}}{h} \\ \\  x_{i-1} \\leq x \\leq x_i  \\\\ \n",
        "\\frac{x_{i+1}-x}{h} \\ \\  x_{i} \\leq x \\leq x_{i+1} \\\\ \n",
        " \\ \\ 0 \\ \\  \\ \\ \\  \\ \\ sinon  \n",
        "\\end{array}\n",
        "\\right.$$\n",
        "#linear system\n",
        "We have the last variational formula for all $v_h  \\in V_{0,h}^1$, then we will have the following formula: \n",
        "$$\\int^1_{0}u_h^{\\prime}(x)\\varphi_i^{\\prime}(x)\\;\\text{d}x=\\int^1_{0}f(x)\\varphi_i(x)\\;\\text{d}x. \\ \\ 0\\leq i \\leq N+1 $$\n",
        "let's pose:\n",
        "$$u_{h}= \\sum_{j=0}^{j=N+1} u_{j}\\varphi_j(x)$$\n",
        "By replacing we get:\n",
        "$$\\sum_{j=0}^{j=N+1} u_j\\int^1_{0} varphi_i^{\\prime}(x)\\varphi_j^{\\prime}(x)\\;\\text{d}x=\\int^1_{0}f(x)\\varphi_i(x)\\;\\text{d}x. \\ \\ 0\\leq i \\leq N+1 $$\n",
        "\n",
        "\n",
        "\n"
      ]
    },
    {
      "cell_type": "markdown",
      "metadata": {
        "id": "kjuDy8qzXzlQ",
        "colab_type": "text"
      },
      "source": [
        "# Nouvelle section"
      ]
    },
    {
      "cell_type": "code",
      "metadata": {
        "id": "QvBG-MIEPwE4",
        "colab_type": "code",
        "colab": {}
      },
      "source": [
        ""
      ],
      "execution_count": null,
      "outputs": []
    },
    {
      "cell_type": "markdown",
      "metadata": {
        "id": "USQL039zP0OF",
        "colab_type": "text"
      },
      "source": [
        ""
      ]
    }
  ]
}